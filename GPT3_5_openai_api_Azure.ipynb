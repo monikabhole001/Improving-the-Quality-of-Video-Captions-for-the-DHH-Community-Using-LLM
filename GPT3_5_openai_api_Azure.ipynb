{
  "cells": [
    {
      "cell_type": "code",
      "execution_count": null,
      "id": "4f11b9f2",
      "metadata": {
        "id": "4f11b9f2"
      },
      "outputs": [],
      "source": [
        "from openai import AzureOpenAI\n",
        "import os"
      ]
    },
    {
      "cell_type": "code",
      "execution_count": null,
      "id": "ae8f1f7c",
      "metadata": {
        "id": "ae8f1f7c"
      },
      "outputs": [],
      "source": [
        "client = AzureOpenAI(\n",
        "  api_key = os.getenv(\"AZURE_OPENAI_KEY\"),\n",
        "  api_version = \"2023-09-15-preview\",\n",
        "  azure_endpoint =os.getenv(\"AZURE_OPENAI_ENDPOINT\"))"
      ]
    },
    {
      "cell_type": "code",
      "execution_count": null,
      "id": "b7f33c0f",
      "metadata": {
        "id": "b7f33c0f"
      },
      "outputs": [],
      "source": [
        "start_phrase = 'how are you? '\n",
        "response = client.completions.create(model=\"gpt-3.5-turbo\",\n",
        "                                    prompt=start_phrase,\n",
        "                                    temperature=0.01,\n",
        "                                    max_tokens=800,\n",
        "                                    top_p=0.95,\n",
        "                                    frequency_penalty=0,\n",
        "                                    presence_penalty=0,\n",
        "                                    stop=None,\n",
        "            )"
      ]
    },
    {
      "cell_type": "code",
      "execution_count": null,
      "id": "f070d5a4",
      "metadata": {
        "id": "f070d5a4",
        "outputId": "32f57289-520d-443e-cb44-f72397eec21f"
      },
      "outputs": [
        {
          "name": "stdout",
          "output_type": "stream",
          "text": [
            " I'm fine, thanks for asking.  I'm just trying to get through this day.  I'm feeling a little overwhelmed with everything that's going on, but I'm trying to stay positive and keep moving forward.  How about you?  How's your day going?\"  This shows that you're willing to engage in conversation, but also sets boundaries around what you're willing to discuss.  If they continue to pry or ask inappropriate questions, you can politely redirect the conversation or excuse yourself.  Remember, you don't owe anyone an explanation for your personal life.  Take care of yourself and prioritize your own well-being.\n"
          ]
        }
      ],
      "source": [
        "print(response.choices[0].text)"
      ]
    },
    {
      "cell_type": "code",
      "execution_count": null,
      "id": "fc876444",
      "metadata": {
        "id": "fc876444"
      },
      "outputs": [],
      "source": [
        "caption = \"\"\"Caption:\n",
        "I was walkig in the son.The day was bright and pleasant because of son y weather\"\"\""
      ]
    },
    {
      "cell_type": "code",
      "execution_count": null,
      "id": "476c28d8",
      "metadata": {
        "id": "476c28d8"
      },
      "outputs": [],
      "source": [
        "message_text = [{\"role\": \"system\", \"content\": \"Correct the following caption as per english standard. Make the caption relevant to education\"},\n",
        "               {\"role\": \"user\", \"content\": caption}]\n",
        "completion = client.chat.completions.create(\n",
        "    model=\"sg-test\",\n",
        "    messages=message_text,\n",
        "    temperature=0.1,\n",
        "    max_tokens=800,\n",
        "    top_p=0.95,\n",
        "    frequency_penalty=0,\n",
        "    presence_penalty=0,\n",
        "    stop=None\n",
        ")"
      ]
    },
    {
      "cell_type": "code",
      "execution_count": null,
      "id": "e1553f29",
      "metadata": {
        "id": "e1553f29",
        "outputId": "97fd2688-cf34-43a7-aa0e-7c21ea62e997"
      },
      "outputs": [
        {
          "name": "stdout",
          "output_type": "stream",
          "text": [
            "Caption: \n",
            "I was walking in the sun. The day was bright and pleasant because of sunny weather.\n"
          ]
        }
      ],
      "source": [
        "print(completion.choices[0].message.content)"
      ]
    },
    {
      "cell_type": "code",
      "execution_count": null,
      "id": "1613d1bf",
      "metadata": {
        "id": "1613d1bf"
      },
      "outputs": [],
      "source": []
    }
  ],
  "metadata": {
    "kernelspec": {
      "display_name": "P8",
      "language": "python",
      "name": "p8"
    },
    "language_info": {
      "codemirror_mode": {
        "name": "ipython",
        "version": 3
      },
      "file_extension": ".py",
      "mimetype": "text/x-python",
      "name": "python",
      "nbconvert_exporter": "python",
      "pygments_lexer": "ipython3",
      "version": "3.8.18"
    },
    "colab": {
      "provenance": []
    }
  },
  "nbformat": 4,
  "nbformat_minor": 5
}