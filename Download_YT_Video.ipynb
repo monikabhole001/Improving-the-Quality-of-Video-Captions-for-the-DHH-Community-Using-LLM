{
 "cells": [
  {
   "cell_type": "code",
   "execution_count": 1,
   "id": "65093382",
   "metadata": {},
   "outputs": [],
   "source": [
    "from pytube import YouTube  # Library for downloading videos from YouTube\n",
    "import pandas as pd  # Library for data manipulation and analysis"
   ]
  },
  {
   "cell_type": "code",
   "execution_count": 2,
   "id": "c61ccc76",
   "metadata": {},
   "outputs": [],
   "source": [
    "df = pd.read_csv(\"DHH_data_source.csv\", encoding='ISO-8859-1') # Read a CSV file into a pandas DataFrame"
   ]
  },
  {
   "cell_type": "code",
   "execution_count": 3,
   "id": "e1d205aa",
   "metadata": {},
   "outputs": [
    {
     "name": "stdout",
     "output_type": "stream",
     "text": [
      "<class 'pandas.core.frame.DataFrame'>\n",
      "RangeIndex: 52 entries, 0 to 51\n",
      "Data columns (total 5 columns):\n",
      " #   Column    Non-Null Count  Dtype \n",
      "---  ------    --------------  ----- \n",
      " 0   Link      52 non-null     object\n",
      " 1   Label     52 non-null     int64 \n",
      " 2   Category  52 non-null     object\n",
      " 3   Source    52 non-null     object\n",
      " 4   Video_Id  52 non-null     object\n",
      "dtypes: int64(1), object(4)\n",
      "memory usage: 2.2+ KB\n"
     ]
    }
   ],
   "source": [
    "df.info() # Display information about the DataFrame"
   ]
  },
  {
   "cell_type": "code",
   "execution_count": 4,
   "id": "fa503128",
   "metadata": {},
   "outputs": [
    {
     "data": {
      "text/html": [
       "<div>\n",
       "<style scoped>\n",
       "    .dataframe tbody tr th:only-of-type {\n",
       "        vertical-align: middle;\n",
       "    }\n",
       "\n",
       "    .dataframe tbody tr th {\n",
       "        vertical-align: top;\n",
       "    }\n",
       "\n",
       "    .dataframe thead th {\n",
       "        text-align: right;\n",
       "    }\n",
       "</style>\n",
       "<table border=\"1\" class=\"dataframe\">\n",
       "  <thead>\n",
       "    <tr style=\"text-align: right;\">\n",
       "      <th></th>\n",
       "      <th>Link</th>\n",
       "      <th>Label</th>\n",
       "      <th>Category</th>\n",
       "      <th>Source</th>\n",
       "      <th>Video_Id</th>\n",
       "    </tr>\n",
       "  </thead>\n",
       "  <tbody>\n",
       "    <tr>\n",
       "      <th>0</th>\n",
       "      <td>https://youtube.com/shorts/9xCwLDC4dTY?si=VmOh...</td>\n",
       "      <td>1</td>\n",
       "      <td>Cooking</td>\n",
       "      <td>youtube</td>\n",
       "      <td>9xCwLDC4dTY</td>\n",
       "    </tr>\n",
       "    <tr>\n",
       "      <th>1</th>\n",
       "      <td>https://youtube.com/shorts/VpCuw7822EU?si=wbSP...</td>\n",
       "      <td>2</td>\n",
       "      <td>Cooking</td>\n",
       "      <td>youtube</td>\n",
       "      <td>VpCuw7822EU</td>\n",
       "    </tr>\n",
       "    <tr>\n",
       "      <th>2</th>\n",
       "      <td>https://youtube.com/shorts/5_tK7VUjcGs?si=4t1w...</td>\n",
       "      <td>3</td>\n",
       "      <td>Cooking</td>\n",
       "      <td>youtube</td>\n",
       "      <td>5_tK7VUjcGs</td>\n",
       "    </tr>\n",
       "    <tr>\n",
       "      <th>3</th>\n",
       "      <td>https://youtu.be/FSCVgmLjjQI?si=V2I558gOB65r3Roj</td>\n",
       "      <td>4</td>\n",
       "      <td>Cooking</td>\n",
       "      <td>youtube</td>\n",
       "      <td>FSCVgmLjjQI</td>\n",
       "    </tr>\n",
       "    <tr>\n",
       "      <th>4</th>\n",
       "      <td>https://youtu.be/2PdxdditT5g?si=4U_tST7wMVPVXWtD</td>\n",
       "      <td>5</td>\n",
       "      <td>Cooking</td>\n",
       "      <td>youtube</td>\n",
       "      <td>2PdxdditT5g</td>\n",
       "    </tr>\n",
       "  </tbody>\n",
       "</table>\n",
       "</div>"
      ],
      "text/plain": [
       "                                                Link  Label Category   Source  \\\n",
       "0  https://youtube.com/shorts/9xCwLDC4dTY?si=VmOh...      1  Cooking  youtube   \n",
       "1  https://youtube.com/shorts/VpCuw7822EU?si=wbSP...      2  Cooking  youtube   \n",
       "2  https://youtube.com/shorts/5_tK7VUjcGs?si=4t1w...      3  Cooking  youtube   \n",
       "3   https://youtu.be/FSCVgmLjjQI?si=V2I558gOB65r3Roj      4  Cooking  youtube   \n",
       "4   https://youtu.be/2PdxdditT5g?si=4U_tST7wMVPVXWtD      5  Cooking  youtube   \n",
       "\n",
       "      Video_Id  \n",
       "0  9xCwLDC4dTY  \n",
       "1  VpCuw7822EU  \n",
       "2  5_tK7VUjcGs  \n",
       "3  FSCVgmLjjQI  \n",
       "4  2PdxdditT5g  "
      ]
     },
     "execution_count": 4,
     "metadata": {},
     "output_type": "execute_result"
    }
   ],
   "source": [
    "df.head() # Display the first few rows of the DataFrame"
   ]
  },
  {
   "cell_type": "code",
   "execution_count": 5,
   "id": "eb4d9602",
   "metadata": {},
   "outputs": [],
   "source": [
    "# Modify the function to include an index parameter\n",
    "def download_yt_video(url, folder, label):\n",
    "    folder = Path(folder)  # Convert the folder path to a Path object for easy manipulation\n",
    "    folder.mkdir(parents=True, exist_ok=True)  # Create the directory\n",
    "    \n",
    "    try:        \n",
    "        yt = YouTube(url)  # Initialize a YouTube object with the URL\n",
    "        video_stream = yt.streams.filter(progressive=True, file_extension='mp4').order_by('resolution').asc().first()\n",
    "        video_file_path = video_stream.download(folder)  # Download the video to the specified folder\n",
    "        video_file_path = Path(video_file_path)\n",
    "\n",
    "        # Dynamically create a new filename using the index\n",
    "        new_filename = f\"{label:03}.mp4\"  # Format the index to be at least 3 digits long (e.g., 001, 002, ...)\n",
    "        new_file_path = video_file_path.parent / new_filename  # Combine the folder with the new filename\n",
    "        \n",
    "        # Rename the downloaded file\n",
    "        video_file_path.rename(new_file_path)\n",
    "        \n",
    "    except Exception as e: \n",
    "        print(e)  # Print any exceptions that occur\n",
    "        print(f'Folder: {folder}, URL: {url}')  # Print the folder and URL for debugging\n"
   ]
  },
  {
   "cell_type": "code",
   "execution_count": 6,
   "id": "fa269d20",
   "metadata": {},
   "outputs": [],
   "source": [
    "# use the modified function in a loop\n",
    "for index, row in df.iterrows():\n",
    "    download_yt_video(row[\"Link\"], f'videos/{row[\"Source\"]}/{row[\"Category\"]}', row[\"Label\"])"
   ]
  },
  {
   "cell_type": "code",
   "execution_count": null,
   "id": "1df0c1ac",
   "metadata": {},
   "outputs": [],
   "source": []
  }
 ],
 "metadata": {
  "kernelspec": {
   "display_name": "P8",
   "language": "python",
   "name": "p8"
  },
  "language_info": {
   "codemirror_mode": {
    "name": "ipython",
    "version": 3
   },
   "file_extension": ".py",
   "mimetype": "text/x-python",
   "name": "python",
   "nbconvert_exporter": "python",
   "pygments_lexer": "ipython3",
   "version": "3.8.18"
  }
 },
 "nbformat": 4,
 "nbformat_minor": 5
}
