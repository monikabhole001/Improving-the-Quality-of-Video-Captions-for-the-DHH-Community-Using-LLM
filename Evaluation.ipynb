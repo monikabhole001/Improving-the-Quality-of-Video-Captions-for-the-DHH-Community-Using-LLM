{
 "cells": [
  {
   "cell_type": "code",
   "execution_count": 1,
   "id": "d4e21a4f",
   "metadata": {},
   "outputs": [
    {
     "name": "stderr",
     "output_type": "stream",
     "text": [
      "C:\\ProgramData\\anaconda3\\envs\\p8\\lib\\site-packages\\tqdm\\auto.py:21: TqdmWarning: IProgress not found. Please update jupyter and ipywidgets. See https://ipywidgets.readthedocs.io/en/stable/user_install.html\n",
      "  from .autonotebook import tqdm as notebook_tqdm\n"
     ]
    }
   ],
   "source": [
    "from jiwer import wer\n",
    "import evaluate\n",
    "import pandas as pd"
   ]
  },
  {
   "cell_type": "code",
   "execution_count": 4,
   "id": "0753b0bb",
   "metadata": {},
   "outputs": [],
   "source": [
    "def calculate_wer(ground_truth, hypothesis):\n",
    "    # Calculate WER\n",
    "    error_rate = wer(ground_truth, hypothesis)\n",
    "    return round(error_rate*100,2)"
   ]
  },
  {
   "cell_type": "code",
   "execution_count": 3,
   "id": "dcf40dbe",
   "metadata": {},
   "outputs": [
    {
     "name": "stdout",
     "output_type": "stream",
     "text": [
      "0.5578002860768766\n"
     ]
    }
   ],
   "source": [
    "def calculate_bleu(predictions, references):\n",
    "    # Load the BLEU evaluation metric\n",
    "    bleu = evaluate.load(\"bleu\")\n",
    "   \n",
    "    # Compute the BLEU score\n",
    "    results = bleu.compute(predictions=[predictions], references=[references])\n",
    "    \n",
    "    return results[\"bleu\"]\n",
    "\n",
    "predictions = \"hello please there can general a kenobi\"\n",
    "references = \"hello please there can general can you kenobi\"\n",
    "\n",
    "bleu_score = calculate_bleu(predictions, references)\n",
    "\n",
    "print(bleu_score)"
   ]
  },
  {
   "cell_type": "code",
   "execution_count": 1,
   "id": "aabe54a3",
   "metadata": {},
   "outputs": [],
   "source": [
    "def calculate_rouge(predictions, references):\n",
    "    # Load the ROUGE evaluation metric\n",
    "    rouge = evaluate.load('rouge')\n",
    "    \n",
    "    # Compute the ROUGE score\n",
    "    results = rouge.compute(predictions=[predictions], references=[references])\n",
    "    \n",
    "    return pd.Series([results[\"rouge1\"],results[\"rouge2\"],results[\"rougeL\"],results[\"rougeLsum\"]])\n",
    "\n",
    "#predictions = \"hello please there can general a kenobi\"\n",
    "#references = \"hello please there can general can you kenobi\"\n",
    "#rouge_score = calculate_rouge(predictions, references)\n",
    "\n",
    "#print(rouge_score)"
   ]
  },
  {
   "cell_type": "code",
   "execution_count": 4,
   "id": "bc7902bc",
   "metadata": {
    "scrolled": true
   },
   "outputs": [],
   "source": [
    "df = pd.read_csv(\"Final Captions with evaluation results.csv\", encoding='ISO-8859-1')"
   ]
  },
  {
   "cell_type": "code",
   "execution_count": 6,
   "id": "a33cb494",
   "metadata": {},
   "outputs": [
    {
     "name": "stdout",
     "output_type": "stream",
     "text": [
      "<class 'pandas.core.frame.DataFrame'>\n",
      "RangeIndex: 52 entries, 0 to 51\n",
      "Data columns (total 8 columns):\n",
      " #   Column           Non-Null Count  Dtype \n",
      "---  ------           --------------  ----- \n",
      " 0   File             52 non-null     object\n",
      " 1   Whisper_Caption  33 non-null     object\n",
      " 2   Label            52 non-null     int64 \n",
      " 3   youtube_caption  52 non-null     object\n",
      " 4   Category         52 non-null     object\n",
      " 5   Chatgpt_caption  52 non-null     object\n",
      " 6   Ground_Truth     52 non-null     object\n",
      " 7   Llama2_caption   52 non-null     object\n",
      "dtypes: int64(1), object(7)\n",
      "memory usage: 3.4+ KB\n"
     ]
    }
   ],
   "source": [
    "df.info()"
   ]
  },
  {
   "cell_type": "code",
   "execution_count": 5,
   "id": "35e09232",
   "metadata": {},
   "outputs": [
    {
     "data": {
      "text/html": [
       "<div>\n",
       "<style scoped>\n",
       "    .dataframe tbody tr th:only-of-type {\n",
       "        vertical-align: middle;\n",
       "    }\n",
       "\n",
       "    .dataframe tbody tr th {\n",
       "        vertical-align: top;\n",
       "    }\n",
       "\n",
       "    .dataframe thead th {\n",
       "        text-align: right;\n",
       "    }\n",
       "</style>\n",
       "<table border=\"1\" class=\"dataframe\">\n",
       "  <thead>\n",
       "    <tr style=\"text-align: right;\">\n",
       "      <th></th>\n",
       "      <th>File</th>\n",
       "      <th>Label</th>\n",
       "      <th>youtube_caption</th>\n",
       "      <th>Category</th>\n",
       "      <th>Chatgpt_caption</th>\n",
       "      <th>Ground_Truth</th>\n",
       "      <th>Llama2_caption</th>\n",
       "      <th>wer_gpt</th>\n",
       "      <th>bleu_gpt</th>\n",
       "      <th>rouge1_gpt</th>\n",
       "      <th>rouge2_gpt</th>\n",
       "      <th>rougeL_gpt</th>\n",
       "      <th>rougeLsum_gpt</th>\n",
       "      <th>wer_llama2</th>\n",
       "      <th>bleu_llama2</th>\n",
       "      <th>rouge1_llama2</th>\n",
       "      <th>rouge2_llama2</th>\n",
       "      <th>rougeL_llama2</th>\n",
       "      <th>rougeLsum_llama2</th>\n",
       "    </tr>\n",
       "  </thead>\n",
       "  <tbody>\n",
       "    <tr>\n",
       "      <th>0</th>\n",
       "      <td>audio\\youtube\\Cooking\\001.mp3</td>\n",
       "      <td>1.0</td>\n",
       "      <td>- Let's make easy baked pears.(upbeat music) F...</td>\n",
       "      <td>Cooking</td>\n",
       "      <td>Let's make easy baked pears. (Upbeat music) Fo...</td>\n",
       "      <td>Let's make easy baked pears (upbeat music). Fo...</td>\n",
       "      <td>Let's make easy baked pears. For the topping, ...</td>\n",
       "      <td>11.11</td>\n",
       "      <td>0.836766</td>\n",
       "      <td>0.968153</td>\n",
       "      <td>0.955128</td>\n",
       "      <td>0.968153</td>\n",
       "      <td>0.968153</td>\n",
       "      <td>16.99</td>\n",
       "      <td>0.761542</td>\n",
       "      <td>0.904290</td>\n",
       "      <td>0.857143</td>\n",
       "      <td>0.904290</td>\n",
       "      <td>0.904290</td>\n",
       "    </tr>\n",
       "    <tr>\n",
       "      <th>1</th>\n",
       "      <td>audio\\youtube\\Cooking\\002.mp3</td>\n",
       "      <td>2.0</td>\n",
       "      <td>homemade pizza dough no special equipment need...</td>\n",
       "      <td>Cooking</td>\n",
       "      <td>Homemade pizza dough, no special equipment nee...</td>\n",
       "      <td>Homemade pizza dough, no special equipment nee...</td>\n",
       "      <td>Homemade pizza dough, no special equipment nee...</td>\n",
       "      <td>9.44</td>\n",
       "      <td>0.850729</td>\n",
       "      <td>0.992042</td>\n",
       "      <td>0.981333</td>\n",
       "      <td>0.992042</td>\n",
       "      <td>0.992042</td>\n",
       "      <td>32.78</td>\n",
       "      <td>0.585373</td>\n",
       "      <td>0.887006</td>\n",
       "      <td>0.784091</td>\n",
       "      <td>0.858757</td>\n",
       "      <td>0.858757</td>\n",
       "    </tr>\n",
       "    <tr>\n",
       "      <th>2</th>\n",
       "      <td>audio\\youtube\\Cooking\\003.mp3</td>\n",
       "      <td>3.0</td>\n",
       "      <td>[Music] reynolds what is the dish so this is o...</td>\n",
       "      <td>Cooking</td>\n",
       "      <td>[Music] Reynolds, what is the dish? So, this i...</td>\n",
       "      <td>[Music] Reynolds, what is the dish? So, this i...</td>\n",
       "      <td>Reynolds, what is the dish so this is of cours...</td>\n",
       "      <td>9.76</td>\n",
       "      <td>0.856061</td>\n",
       "      <td>0.934911</td>\n",
       "      <td>0.898204</td>\n",
       "      <td>0.934911</td>\n",
       "      <td>0.934911</td>\n",
       "      <td>43.90</td>\n",
       "      <td>0.403562</td>\n",
       "      <td>0.833333</td>\n",
       "      <td>0.779221</td>\n",
       "      <td>0.833333</td>\n",
       "      <td>0.833333</td>\n",
       "    </tr>\n",
       "    <tr>\n",
       "      <th>3</th>\n",
       "      <td>audio\\youtube\\Cooking\\004.mp3</td>\n",
       "      <td>4.0</td>\n",
       "      <td>When you're in the mood for something sweet an...</td>\n",
       "      <td>Cooking</td>\n",
       "      <td>When you're in the mood for something sweet an...</td>\n",
       "      <td>When you're in the mood for something sweet an...</td>\n",
       "      <td>When you're in the mood for something sweet an...</td>\n",
       "      <td>0.88</td>\n",
       "      <td>0.982065</td>\n",
       "      <td>0.994786</td>\n",
       "      <td>0.988506</td>\n",
       "      <td>0.994786</td>\n",
       "      <td>0.994786</td>\n",
       "      <td>3.94</td>\n",
       "      <td>0.943766</td>\n",
       "      <td>0.988506</td>\n",
       "      <td>0.982199</td>\n",
       "      <td>0.988506</td>\n",
       "      <td>0.988506</td>\n",
       "    </tr>\n",
       "    <tr>\n",
       "      <th>4</th>\n",
       "      <td>audio\\youtube\\Cooking\\005.mp3</td>\n",
       "      <td>5.0</td>\n",
       "      <td>we're down to the last 10 minutes wo start pla...</td>\n",
       "      <td>Cooking</td>\n",
       "      <td>We're down to the last 10 minutes. We start pl...</td>\n",
       "      <td>We're down to the last 10 minutes. Start plati...</td>\n",
       "      <td>We're down to the last 10 minutes, and it's ti...</td>\n",
       "      <td>1.05</td>\n",
       "      <td>0.983590</td>\n",
       "      <td>0.996764</td>\n",
       "      <td>0.990260</td>\n",
       "      <td>0.996764</td>\n",
       "      <td>0.996764</td>\n",
       "      <td>30.66</td>\n",
       "      <td>0.606630</td>\n",
       "      <td>0.947195</td>\n",
       "      <td>0.913907</td>\n",
       "      <td>0.943894</td>\n",
       "      <td>0.943894</td>\n",
       "    </tr>\n",
       "    <tr>\n",
       "      <th>5</th>\n",
       "      <td>audio\\youtube\\Cooking\\006.mp3</td>\n",
       "      <td>6.0</td>\n",
       "      <td>growing up one of my favorite things was a chi...</td>\n",
       "      <td>Cooking</td>\n",
       "      <td>Growing up, one of my favorite things was a ch...</td>\n",
       "      <td>Growing up, one of my favorite things was a ch...</td>\n",
       "      <td>Growing up, one of my favorite things was a ch...</td>\n",
       "      <td>24.62</td>\n",
       "      <td>0.722989</td>\n",
       "      <td>0.872200</td>\n",
       "      <td>0.804749</td>\n",
       "      <td>0.859025</td>\n",
       "      <td>0.859025</td>\n",
       "      <td>64.45</td>\n",
       "      <td>0.344864</td>\n",
       "      <td>0.700377</td>\n",
       "      <td>0.507937</td>\n",
       "      <td>0.591698</td>\n",
       "      <td>0.591698</td>\n",
       "    </tr>\n",
       "  </tbody>\n",
       "</table>\n",
       "</div>"
      ],
      "text/plain": [
       "                            File  Label  \\\n",
       "0  audio\\youtube\\Cooking\\001.mp3    1.0   \n",
       "1  audio\\youtube\\Cooking\\002.mp3    2.0   \n",
       "2  audio\\youtube\\Cooking\\003.mp3    3.0   \n",
       "3  audio\\youtube\\Cooking\\004.mp3    4.0   \n",
       "4  audio\\youtube\\Cooking\\005.mp3    5.0   \n",
       "5  audio\\youtube\\Cooking\\006.mp3    6.0   \n",
       "\n",
       "                                     youtube_caption Category  \\\n",
       "0  - Let's make easy baked pears.(upbeat music) F...  Cooking   \n",
       "1  homemade pizza dough no special equipment need...  Cooking   \n",
       "2  [Music] reynolds what is the dish so this is o...  Cooking   \n",
       "3  When you're in the mood for something sweet an...  Cooking   \n",
       "4  we're down to the last 10 minutes wo start pla...  Cooking   \n",
       "5  growing up one of my favorite things was a chi...  Cooking   \n",
       "\n",
       "                                     Chatgpt_caption  \\\n",
       "0  Let's make easy baked pears. (Upbeat music) Fo...   \n",
       "1  Homemade pizza dough, no special equipment nee...   \n",
       "2  [Music] Reynolds, what is the dish? So, this i...   \n",
       "3  When you're in the mood for something sweet an...   \n",
       "4  We're down to the last 10 minutes. We start pl...   \n",
       "5  Growing up, one of my favorite things was a ch...   \n",
       "\n",
       "                                        Ground_Truth  \\\n",
       "0  Let's make easy baked pears (upbeat music). Fo...   \n",
       "1  Homemade pizza dough, no special equipment nee...   \n",
       "2  [Music] Reynolds, what is the dish? So, this i...   \n",
       "3  When you're in the mood for something sweet an...   \n",
       "4  We're down to the last 10 minutes. Start plati...   \n",
       "5  Growing up, one of my favorite things was a ch...   \n",
       "\n",
       "                                      Llama2_caption  wer_gpt  bleu_gpt  \\\n",
       "0  Let's make easy baked pears. For the topping, ...    11.11  0.836766   \n",
       "1  Homemade pizza dough, no special equipment nee...     9.44  0.850729   \n",
       "2  Reynolds, what is the dish so this is of cours...     9.76  0.856061   \n",
       "3  When you're in the mood for something sweet an...     0.88  0.982065   \n",
       "4  We're down to the last 10 minutes, and it's ti...     1.05  0.983590   \n",
       "5  Growing up, one of my favorite things was a ch...    24.62  0.722989   \n",
       "\n",
       "   rouge1_gpt  rouge2_gpt  rougeL_gpt  rougeLsum_gpt  wer_llama2  bleu_llama2  \\\n",
       "0    0.968153    0.955128    0.968153       0.968153       16.99     0.761542   \n",
       "1    0.992042    0.981333    0.992042       0.992042       32.78     0.585373   \n",
       "2    0.934911    0.898204    0.934911       0.934911       43.90     0.403562   \n",
       "3    0.994786    0.988506    0.994786       0.994786        3.94     0.943766   \n",
       "4    0.996764    0.990260    0.996764       0.996764       30.66     0.606630   \n",
       "5    0.872200    0.804749    0.859025       0.859025       64.45     0.344864   \n",
       "\n",
       "   rouge1_llama2  rouge2_llama2  rougeL_llama2  rougeLsum_llama2  \n",
       "0       0.904290       0.857143       0.904290          0.904290  \n",
       "1       0.887006       0.784091       0.858757          0.858757  \n",
       "2       0.833333       0.779221       0.833333          0.833333  \n",
       "3       0.988506       0.982199       0.988506          0.988506  \n",
       "4       0.947195       0.913907       0.943894          0.943894  \n",
       "5       0.700377       0.507937       0.591698          0.591698  "
      ]
     },
     "execution_count": 5,
     "metadata": {},
     "output_type": "execute_result"
    }
   ],
   "source": [
    "df.head(6)"
   ]
  },
  {
   "cell_type": "code",
   "execution_count": 7,
   "id": "19115939",
   "metadata": {},
   "outputs": [],
   "source": [
    "df['Ground_Truth'] = df['Ground_Truth'].fillna('').astype(str)\n",
    "df['Chatgpt_caption'] = df['Chatgpt_caption'].fillna('').astype(str)\n",
    "df[\"wer_gpt\"] = df.apply(lambda x: calculate_wer(x[\"Ground_Truth\"],x[\"Chatgpt_caption\"]) ,axis=1)\n",
    "df[\"bleu_gpt\"] = df.apply(lambda x: calculate_bleu(x[\"Ground_Truth\"],x[\"Chatgpt_caption\"]) ,axis=1)"
   ]
  },
  {
   "cell_type": "code",
   "execution_count": 8,
   "id": "ddf23a71",
   "metadata": {},
   "outputs": [],
   "source": [
    "df[[\"rouge1_gpt\",\"rouge2_gpt\",\"rougeL_gpt\",\"rougeLsum_gpt\"]] = df.apply(lambda x: calculate_rouge(x[\"Ground_Truth\"],x[\"Chatgpt_caption\"]) ,axis=1)"
   ]
  },
  {
   "cell_type": "code",
   "execution_count": 9,
   "id": "70dc9d4f",
   "metadata": {},
   "outputs": [
    {
     "data": {
      "text/html": [
       "<div>\n",
       "<style scoped>\n",
       "    .dataframe tbody tr th:only-of-type {\n",
       "        vertical-align: middle;\n",
       "    }\n",
       "\n",
       "    .dataframe tbody tr th {\n",
       "        vertical-align: top;\n",
       "    }\n",
       "\n",
       "    .dataframe thead th {\n",
       "        text-align: right;\n",
       "    }\n",
       "</style>\n",
       "<table border=\"1\" class=\"dataframe\">\n",
       "  <thead>\n",
       "    <tr style=\"text-align: right;\">\n",
       "      <th></th>\n",
       "      <th>File</th>\n",
       "      <th>Whisper_Caption</th>\n",
       "      <th>Label</th>\n",
       "      <th>youtube_caption</th>\n",
       "      <th>Category</th>\n",
       "      <th>Chatgpt_caption</th>\n",
       "      <th>Ground_Truth</th>\n",
       "      <th>Llama2_caption</th>\n",
       "      <th>wer</th>\n",
       "      <th>bleu</th>\n",
       "      <th>rouge1</th>\n",
       "      <th>rouge2</th>\n",
       "      <th>rougeL</th>\n",
       "      <th>rougeLsum</th>\n",
       "    </tr>\n",
       "  </thead>\n",
       "  <tbody>\n",
       "  </tbody>\n",
       "</table>\n",
       "</div>"
      ],
      "text/plain": [
       "Empty DataFrame\n",
       "Columns: [File, Whisper_Caption, Label, youtube_caption, Category, Chatgpt_caption, Ground_Truth, Llama2_caption, wer, bleu, rouge1, rouge2, rougeL, rougeLsum]\n",
       "Index: []"
      ]
     },
     "execution_count": 9,
     "metadata": {},
     "output_type": "execute_result"
    }
   ],
   "source": [
    "empty_records = df[(df['Ground_Truth'] == '') | (df['Chatgpt_caption'] == '')]\n",
    "empty_records"
   ]
  },
  {
   "cell_type": "code",
   "execution_count": 10,
   "id": "5af6d8d1",
   "metadata": {},
   "outputs": [],
   "source": [
    "df[\"wer_llama2\"] = df.apply(lambda x: calculate_wer(x[\"Ground_Truth\"],x[\"Llama2_caption\"]) ,axis=1)\n",
    "df[\"bleu_llama2\"] = df.apply(lambda x: calculate_bleu(x[\"Ground_Truth\"],x[\"Llama2_caption\"]) ,axis=1)"
   ]
  },
  {
   "cell_type": "code",
   "execution_count": 11,
   "id": "d346a458",
   "metadata": {},
   "outputs": [],
   "source": [
    "df[[\"rouge1_llama2\",\"rouge2_llama2\",\"rougeL_llama2\",\"rougeLsum_llama2\"]] = df.apply(lambda x: calculate_rouge(x[\"Ground_Truth\"],x[\"Llama2_caption\"]) ,axis=1)"
   ]
  },
  {
   "cell_type": "code",
   "execution_count": 6,
   "id": "19391628",
   "metadata": {},
   "outputs": [],
   "source": [
    "df.to_csv('Final Captions with evaluation results.csv',index=False)"
   ]
  },
  {
   "cell_type": "code",
   "execution_count": 3,
   "id": "62c229bc",
   "metadata": {},
   "outputs": [
    {
     "name": "stdout",
     "output_type": "stream",
     "text": [
      "Reference Transcript: hello world, how are you?\n",
      "Hypothesis Transcript: hello, how you doing world?\n",
      "Word Error Rate: 100.00%\n"
     ]
    }
   ],
   "source": [
    "reference = \"hello world, how are you?\"\n",
    "hypothesis = \"hello, how you doing world?\"\n",
    "# Calculate Word Error Rate\n",
    "error = wer(reference, hypothesis)\n",
    "# Display results\n",
    "print(f\"Reference Transcript: {reference}\")\n",
    "print(f\"Hypothesis Transcript: {hypothesis}\")\n",
    "print(f\"Word Error Rate: {error:.2%}\")"
   ]
  },
  {
   "cell_type": "code",
   "execution_count": null,
   "id": "ceb4d817",
   "metadata": {},
   "outputs": [],
   "source": []
  }
 ],
 "metadata": {
  "kernelspec": {
   "display_name": "P8",
   "language": "python",
   "name": "p8"
  },
  "language_info": {
   "codemirror_mode": {
    "name": "ipython",
    "version": 3
   },
   "file_extension": ".py",
   "mimetype": "text/x-python",
   "name": "python",
   "nbconvert_exporter": "python",
   "pygments_lexer": "ipython3",
   "version": "3.8.18"
  }
 },
 "nbformat": 4,
 "nbformat_minor": 5
}
