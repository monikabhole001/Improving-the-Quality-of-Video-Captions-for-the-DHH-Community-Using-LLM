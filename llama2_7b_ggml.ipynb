{
 "cells": [
  {
   "cell_type": "code",
   "execution_count": 1,
   "id": "f14fd7fb",
   "metadata": {},
   "outputs": [
    {
     "name": "stderr",
     "output_type": "stream",
     "text": [
      "C:\\ProgramData\\anaconda3\\envs\\p8\\lib\\site-packages\\tqdm\\auto.py:21: TqdmWarning: IProgress not found. Please update jupyter and ipywidgets. See https://ipywidgets.readthedocs.io/en/stable/user_install.html\n",
      "  from .autonotebook import tqdm as notebook_tqdm\n",
      "You are using the default legacy behaviour of the <class 'transformers.models.llama.tokenization_llama.LlamaTokenizer'>. This is expected, and simply means that the `legacy` (previous) behavior will be used so nothing changes for you. If you want to use the new behaviour, set `legacy=False`. This should only be set if you understand what it means, and thouroughly read the reason why this was added as explained in https://github.com/huggingface/transformers/pull/24565\n"
     ]
    }
   ],
   "source": [
    "# File: llm.py\n",
    "from langchain.llms import CTransformers\n",
    "from transformers import AutoTokenizer\n",
    "\n",
    "# Initialize tokenizer for Llama\n",
    "tokenizer = AutoTokenizer.from_pretrained(\"allenai/open-instruct-llama2-sharegpt-7b\")\n",
    "\n",
    "model = \"F:\\jupyter\\llama-2-7b-chat.ggmlv3.q8_0.bin\"\n",
    "# Local CTransformers wrapper for Llama-2-7B-Chat\n",
    "llm = CTransformers(model = model, # Location of downloaded GGML model\n",
    "                    model_type='llama', # Model type Llama\n",
    "                    config={'max_new_tokens': 500,\n",
    "                             'repetition_penalty': 1.15,'stream': True,\n",
    "                            'temperature': 0})\n"
   ]
  },
  {
   "cell_type": "code",
   "execution_count": 2,
   "id": "a757c9dd",
   "metadata": {},
   "outputs": [],
   "source": [
    "instruction = \"Grammatically corrected the  text:\" "
   ]
  },
  {
   "cell_type": "code",
   "execution_count": null,
   "id": "1ef73c7f",
   "metadata": {},
   "outputs": [],
   "source": [
    "data = \"My lieblings hobby ist painting weil it allows me to relax \""
   ]
  },
  {
   "cell_type": "code",
   "execution_count": null,
   "id": "9308a449",
   "metadata": {},
   "outputs": [],
   "source": [
    "prompt = [f\"\"\"\n",
    "{instruction}\n",
    "query:{data}\"\"\"\n",
    "]\n"
   ]
  },
  {
   "cell_type": "code",
   "execution_count": 3,
   "id": "b20cd6e7",
   "metadata": {},
   "outputs": [],
   "source": [
    "prompt = [\"Correct the following sentence: I was walking in the son. The day was bright and son y\"]"
   ]
  },
  {
   "cell_type": "code",
   "execution_count": 4,
   "id": "dd2251a3",
   "metadata": {},
   "outputs": [],
   "source": [
    "response = llm.generate(prompt)"
   ]
  },
  {
   "cell_type": "code",
   "execution_count": 5,
   "id": "e61b1265",
   "metadata": {},
   "outputs": [
    {
     "name": "stdout",
     "output_type": "stream",
     "text": [
      "ummy.\n",
      "\n",
      "Answer:\n",
      "The correct sentence is:\n",
      "I was walking in the sun.\n",
      "The day was bright and sunny.\n"
     ]
    }
   ],
   "source": [
    "print(response.generations[0][0].text)"
   ]
  },
  {
   "cell_type": "code",
   "execution_count": null,
   "id": "bccf5fe6",
   "metadata": {},
   "outputs": [],
   "source": [
    "prompt = [\"Provide grammatically corrected statement for the following captions, ensuring they adhere to proper English standards. Keep in mind spelling, punctuation, and overall clarity.: My lieblings hobby ist painting weil it allows me to relax.\"]\n",
    "# prompt = [\n",
    "#     \"Correct only the grammatical errors in the following sentences. Do not add, remove, or rephrase any content. Give your output between xxx: 'I was walking in the son. The day was bright and son y'\"\n",
    "# ]\n",
    "# prompt = [\n",
    "#     \"Correct only the grammatical errors in the following sentences: 'I was walking in the son. The day was bright and son y'\"\n",
    "# ]"
   ]
  }
 ],
 "metadata": {
  "kernelspec": {
   "display_name": "P8",
   "language": "python",
   "name": "p8"
  },
  "language_info": {
   "codemirror_mode": {
    "name": "ipython",
    "version": 3
   },
   "file_extension": ".py",
   "mimetype": "text/x-python",
   "name": "python",
   "nbconvert_exporter": "python",
   "pygments_lexer": "ipython3",
   "version": "3.8.18"
  }
 },
 "nbformat": 4,
 "nbformat_minor": 5
}
